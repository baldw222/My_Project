{
 "cells": [
  {
   "cell_type": "markdown",
   "metadata": {},
   "source": [
    "[Link to this document's Jupyter Notebook](./0415-PROJECT_Part2.ipynb)"
   ]
  },
  {
   "cell_type": "markdown",
   "metadata": {},
   "source": [
    "# Project Part 2 - OpenFoam Exploration \n",
    "\n",
    "By Hunter Baldwin"
   ]
  },
  {
   "cell_type": "markdown",
   "metadata": {},
   "source": [
    "<img src=\"https://chengineer.com/wp-content/uploads/openfoam.png\" alt=\"Just a simple camera icon intended to be replaced with your image\" width=\"20%\">\n",
    "\n",
    "Image from: totalsimulation.co.uk/why-openfoam/"
   ]
  },
  {
   "cell_type": "markdown",
   "metadata": {},
   "source": [
    "---\n",
    "# Abstract\n",
    " \n",
    "OpenFoam is an open source computational fluid dynamics software. It is used in a variety of STEM fields and even utilized in Formula 1 to visualize the aerodynamics of the car. This was one of the main reasons why I chose to work with this software, I have always been interested in Formula 1 and how the drivers can use these superior race cars to do some incredible things on the track. But before the drivers can step into the car, it has to be analyzed to maximize the performance out on the track, and that can only be done by using computational fluid dynamics.  \n",
    "\n"
   ]
  },
  {
   "cell_type": "markdown",
   "metadata": {},
   "source": [
    "---\n",
    "# Methodology\n",
    " \n",
    "\n",
    "My main goal for this project was to ultimatley visualize the aerodynamics of a Formula 1 racecar, but after spending a lot of time trying to convert something made for a different cfd software I was unable to get it working. Fortunately the repo for the software has a ton of examples for running the program. To run the examples you first have to install and compile the software, there is a more detailed description provided in my READme file but essentially its cloning the repo to the hpcc sourcing the enviornment and compiling it with the ./Allwmake command. In the last milestone i ran an example from the flamepropogation directory in the OpenFoam repo that can be run by submitting the flame.sb script to the scheduler, I added a new flame script which has the mpirun commands instead of the srun commands just to see if there was any difference in the commands runtime, and I used this to manipulate the various SBATCH commands. "
   ]
  },
  {
   "cell_type": "markdown",
   "metadata": {},
   "source": [
    "---\n",
    "# Timing Results\n",
    "\n",
    "According to the website and my findings the OpenFoam software already compiles and runs the examples with optimization, in fact the only way to get the software to compile in a timely manner is to run it with with all available cores using the -j flag. \n",
    "\n",
    "So with this in mind there wasn't a lot I could do to optimize the compilation commands since there was already optimization present in the commands. I wasn't really sure what would help increase the time since it already runs pretty quickly but I tried fiddling with the SBATCH commands trying it with different nodes and cores, and also running it on GPUS instead, and I noticed a small increase in the time it took to run the examples but it wasnt a drastic one the time only differed by 10 - 20 seconds, and there wasn't much of a graph to present.    \n"
   ]
  },
  {
   "cell_type": "markdown",
   "metadata": {},
   "source": [
    "---\n",
    "# Concluding Discussion and Future Work\n",
    " \n",
    "\n",
    "In conclusion OpenFoam can be used for a variety of things across various fields to analyze things you cant see with human eye and I feel like I have only scratched the surface of what this software is capable of. There are thousands of ways to utilize a cfd software whether its visualizing the stress from a building during an earthquake, visualizing an engines flow and output, or even the aerodynamics of an elephant. My main goal for any future OpenFoam endeavors would be to ultimately get the F1 aerodynamics working and visualized on the hpcc. \n"
   ]
  },
  {
   "cell_type": "markdown",
   "metadata": {},
   "source": [
    "---\n",
    "# References\n",
    "\n",
    "1. https://cfd.direct/openfoam/user-guide/\n",
    "2. https://www.openfoam.com/documentation/user-guide/3-running-applications/3.2-running-applications-in-parallel\n",
    "3. https://github.com/OpenFOAM/OpenFOAM-8\n",
    "4. https://openfoam.org/download/source/"
   ]
  },
  {
   "cell_type": "markdown",
   "metadata": {},
   "source": [
    "-----\n",
    "### Congratulations, you are done!\n",
    "\n",
    "Now, you just need to create a second directory in your git repository and include your report as an md or ipynb file in the directory along with any additional figures and files needed to reproduce the results.  You instructor should already have your git repository and be able to pull in your changes. "
   ]
  },
  {
   "cell_type": "markdown",
   "metadata": {},
   "source": [
    "Written by Dr. Dirk Colbry, Michigan State University\n",
    "<a rel=\"license\" href=\"http://creativecommons.org/licenses/by-nc/4.0/\"><img alt=\"Creative Commons License\" style=\"border-width:0\" src=\"https://i.creativecommons.org/l/by-nc/4.0/88x31.png\" /></a><br />This work is licensed under a <a rel=\"license\" href=\"http://creativecommons.org/licenses/by-nc/4.0/\">Creative Commons Attribution-NonCommercial 4.0 International License</a>."
   ]
  },
  {
   "cell_type": "markdown",
   "metadata": {},
   "source": [
    "----"
   ]
  }
 ],
 "metadata": {
  "anaconda-cloud": {},
  "kernelspec": {
   "display_name": "Python 3",
   "language": "python",
   "name": "python3"
  },
  "language_info": {
   "codemirror_mode": {
    "name": "ipython",
    "version": 3
   },
   "file_extension": ".py",
   "mimetype": "text/x-python",
   "name": "python",
   "nbconvert_exporter": "python",
   "pygments_lexer": "ipython3",
   "version": "3.7.4"
  }
 },
 "nbformat": 4,
 "nbformat_minor": 1
}
